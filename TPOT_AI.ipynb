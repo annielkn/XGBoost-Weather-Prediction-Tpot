{
  "nbformat": 4,
  "nbformat_minor": 0,
  "metadata": {
    "colab": {
      "name": "TPOT AI.ipynb",
      "provenance": []
    },
    "kernelspec": {
      "name": "python3",
      "display_name": "Python 3"
    }
  },
  "cells": [
    {
      "cell_type": "code",
      "metadata": {
        "id": "CxahpAzLOvuG",
        "colab_type": "code",
        "colab": {}
      },
      "source": [
        "!rm -rf sample_data"
      ],
      "execution_count": 0,
      "outputs": []
    },
    {
      "cell_type": "code",
      "metadata": {
        "id": "UXGQzLMIO7YM",
        "colab_type": "code",
        "outputId": "3368a786-5194-462a-87cb-bd4386bd652f",
        "colab": {
          "base_uri": "https://localhost:8080/",
          "height": 598
        }
      },
      "source": [
        "#downloading the tpot library\n",
        "!pip install tpot"
      ],
      "execution_count": 0,
      "outputs": [
        {
          "output_type": "stream",
          "text": [
            "Collecting tpot\n",
            "\u001b[?25l  Downloading https://files.pythonhosted.org/packages/c5/6c/f1806e5b31d65a195bcd94fd80079318d5a9e54c2239b395404c25496792/TPOT-0.9.5.tar.gz (891kB)\n",
            "\u001b[K    100% |████████████████████████████████| 901kB 8.2MB/s \n",
            "\u001b[?25hRequirement already satisfied: numpy>=1.12.1 in /usr/local/lib/python3.6/dist-packages (from tpot) (1.14.6)\n",
            "Requirement already satisfied: scipy>=0.19.0 in /usr/local/lib/python3.6/dist-packages (from tpot) (0.19.1)\n",
            "Requirement already satisfied: scikit-learn>=0.18.1 in /usr/local/lib/python3.6/dist-packages (from tpot) (0.19.2)\n",
            "Collecting deap>=1.0 (from tpot)\n",
            "\u001b[?25l  Downloading https://files.pythonhosted.org/packages/af/29/e7f2ecbe02997b16a768baed076f5fc4781d7057cd5d9adf7c94027845ba/deap-1.2.2.tar.gz (936kB)\n",
            "\u001b[K    100% |████████████████████████████████| 942kB 13.3MB/s \n",
            "\u001b[?25hCollecting update_checker>=0.16 (from tpot)\n",
            "  Downloading https://files.pythonhosted.org/packages/17/c9/ab11855af164d03be0ff4fddd4c46a5bd44799a9ecc1770e01a669c21168/update_checker-0.16-py2.py3-none-any.whl\n",
            "Requirement already satisfied: tqdm>=4.11.2 in /usr/local/lib/python3.6/dist-packages (from tpot) (4.27.0)\n",
            "Collecting stopit>=1.1.1 (from tpot)\n",
            "  Downloading https://files.pythonhosted.org/packages/35/58/e8bb0b0fb05baf07bbac1450c447d753da65f9701f551dca79823ce15d50/stopit-1.1.2.tar.gz\n",
            "Requirement already satisfied: pandas>=0.20.2 in /usr/local/lib/python3.6/dist-packages (from tpot) (0.22.0)\n",
            "Requirement already satisfied: requests>=2.3.0 in /usr/local/lib/python3.6/dist-packages (from update_checker>=0.16->tpot) (2.18.4)\n",
            "Requirement already satisfied: pytz>=2011k in /usr/local/lib/python3.6/dist-packages (from pandas>=0.20.2->tpot) (2018.5)\n",
            "Requirement already satisfied: python-dateutil>=2 in /usr/local/lib/python3.6/dist-packages (from pandas>=0.20.2->tpot) (2.5.3)\n",
            "Requirement already satisfied: certifi>=2017.4.17 in /usr/local/lib/python3.6/dist-packages (from requests>=2.3.0->update_checker>=0.16->tpot) (2018.10.15)\n",
            "Requirement already satisfied: idna<2.7,>=2.5 in /usr/local/lib/python3.6/dist-packages (from requests>=2.3.0->update_checker>=0.16->tpot) (2.6)\n",
            "Requirement already satisfied: urllib3<1.23,>=1.21.1 in /usr/local/lib/python3.6/dist-packages (from requests>=2.3.0->update_checker>=0.16->tpot) (1.22)\n",
            "Requirement already satisfied: chardet<3.1.0,>=3.0.2 in /usr/local/lib/python3.6/dist-packages (from requests>=2.3.0->update_checker>=0.16->tpot) (3.0.4)\n",
            "Requirement already satisfied: six>=1.5 in /usr/local/lib/python3.6/dist-packages (from python-dateutil>=2->pandas>=0.20.2->tpot) (1.11.0)\n",
            "Building wheels for collected packages: tpot, deap, stopit\n",
            "  Running setup.py bdist_wheel for tpot ... \u001b[?25l-\b \b\\\b \bdone\n",
            "\u001b[?25h  Stored in directory: /root/.cache/pip/wheels/97/86/27/698a1366f854d2344fd0f7ee9ef57c8044ec02f182c8a0431e\n",
            "  Running setup.py bdist_wheel for deap ... \u001b[?25l-\b \b\\\b \b|\b \b/\b \b-\b \b\\\b \b|\b \bdone\n",
            "\u001b[?25h  Stored in directory: /root/.cache/pip/wheels/22/ea/bf/dc7c8a2262025a0ab5da9ef02282c198be88902791ca0c6658\n",
            "  Running setup.py bdist_wheel for stopit ... \u001b[?25l-\b \bdone\n",
            "\u001b[?25h  Stored in directory: /root/.cache/pip/wheels/3c/85/2b/2580190404636bfc63e8de3dff629c03bb795021e1983a6cc7\n",
            "Successfully built tpot deap stopit\n",
            "Installing collected packages: deap, update-checker, stopit, tpot\n",
            "Successfully installed deap-1.2.2 stopit-1.1.2 tpot-0.9.5 update-checker-0.16\n"
          ],
          "name": "stdout"
        }
      ]
    },
    {
      "cell_type": "code",
      "metadata": {
        "id": "dYkC9NcoQYRQ",
        "colab_type": "code",
        "colab": {}
      },
      "source": [
        "# can use xgboost, downloaded by default in google colab\n",
        "# !pip install xgboost"
      ],
      "execution_count": 0,
      "outputs": []
    },
    {
      "cell_type": "code",
      "metadata": {
        "id": "i9OLu0z7P1ja",
        "colab_type": "code",
        "colab": {}
      },
      "source": [
        "#importing dependencies\n",
        "import numpy as np\n",
        "import matplotlib.pyplot as plt\n",
        "import matplotlib.image as img\n",
        "import io, os\n",
        "%matplotlib inline"
      ],
      "execution_count": 0,
      "outputs": []
    },
    {
      "cell_type": "markdown",
      "metadata": {
        "id": "tMXJ17tjQuha",
        "colab_type": "text"
      },
      "source": [
        "**Uploading csv training file**"
      ]
    },
    {
      "cell_type": "code",
      "metadata": {
        "id": "DPmiCn0yPDY_",
        "colab_type": "code",
        "outputId": "e9257e5f-07f3-4acc-9161-db36a7b85a70",
        "colab": {
          "resources": {
            "http://localhost:8080/nbextensions/google.colab/files.js": {
              "data": "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",
              "ok": true,
              "headers": [
                [
                  "content-type",
                  "application/javascript"
                ]
              ],
              "status": 200,
              "status_text": ""
            }
          },
          "base_uri": "https://localhost:8080/",
          "height": 110
        }
      },
      "source": [
        "from google.colab import files\n",
        "files.upload()"
      ],
      "execution_count": 0,
      "outputs": [
        {
          "output_type": "display_data",
          "data": {
            "text/html": [
              "\n",
              "     <input type=\"file\" id=\"files-592535d2-318d-4582-833a-73591ff00f8a\" name=\"files[]\" multiple disabled />\n",
              "     <output id=\"result-592535d2-318d-4582-833a-73591ff00f8a\">\n",
              "      Upload widget is only available when the cell has been executed in the\n",
              "      current browser session. Please rerun this cell to enable.\n",
              "      </output>\n",
              "      <script src=\"/nbextensions/google.colab/files.js\"></script> "
            ],
            "text/plain": [
              "<IPython.core.display.HTML object>"
            ]
          },
          "metadata": {
            "tags": []
          }
        },
        {
          "output_type": "stream",
          "text": [
            "Saving ZeroCarbonBuilding1.csv to ZeroCarbonBuilding1.csv\n"
          ],
          "name": "stdout"
        },
        {
          "output_type": "execute_result",
          "data": {
            "text/plain": [
              "{'ZeroCarbonBuilding1.csv': b'a,b,c,d,e,f,target\\r\\n20181001,1,77,4,13,32767,267\\r\\n20181001,101,79,1,226,32767,264\\r\\n20181001,201,80,11,146,32767,261\\r\\n20181001,301,81,6,55,32767,259\\r\\n20181001,401,75,22,329,32767,239\\r\\n20181001,501,75,13,99,32767,250\\r\\n20181001,601,81,7,82,32767,250\\r\\n20181001,701,91,15,136,32767,242\\r\\n20181001,801,84,1,119,32767,252\\r\\n20181001,901,68,7,87,32767,278\\r\\n20181001,1101,55,12,327,32767,284\\r\\n20181001,1201,54,9,113,32767,288\\r\\n20181001,1301,55,20,324,32767,290\\r\\n20181001,1401,53,30,64,32767,291\\r\\n20181001,1501,56,7,97,32767,289\\r\\n20181001,1601,55,19,300,32767,294\\r\\n20181001,1701,60,14,119,32767,288\\r\\n20181001,1801,67,22,93,32767,275\\r\\n20181001,1901,61,37,118,32767,272\\r\\n20181001,2001,61,10,61,32767,273\\r\\n20181001,2101,55,0,333,32767,274\\r\\n20181001,2201,49,1,352,32767,278\\r\\n20181001,2301,52,32767,32767,32767,278\\r\\n20181002,1,58,32767,32767,32767,272\\r\\n20181002,101,59,32767,32767,32767,270\\r\\n20181002,201,61,32767,32767,32767,266\\r\\n20181002,301,63,32767,32767,32767,265\\r\\n20181002,401,66,6,73,32767,262\\r\\n20181002,501,68,3,34,32767,261\\r\\n20181002,601,65,8,75,32767,260\\r\\n20181002,701,66,13,68,32767,258\\r\\n20181002,801,67,8,329,32767,265\\r\\n20181002,901,61,17,77,32767,279\\r\\n20181002,1001,59,21,137,32767,279\\r\\n20181002,1101,51,7,103,32767,281\\r\\n20181002,1201,45,32767,32767,32767,291\\r\\n20181002,1301,50,32767,32767,32767,290\\r\\n20181002,1401,52,10,127,32767,294\\r\\n20181002,1501,51,32767,32767,32767,296\\r\\n20181002,1601,55,32767,32767,32767,291\\r\\n20181002,1701,63,32767,32767,32767,274\\r\\n20181002,1801,66,27,86,32767,270\\r\\n20181002,1901,68,32767,32767,32767,267\\r\\n20181002,2001,68,32767,32767,32767,265\\r\\n20181002,2101,69,32767,32767,32767,262\\r\\n20181002,2201,71,32767,32767,32767,261\\r\\n20181002,2301,72,32767,32767,32767,261\\r\\n20181003,1,74,32767,32767,32767,260\\r\\n20181003,101,75,32767,32767,32767,260\\r\\n20181003,201,73,32767,32767,32767,260\\r\\n20181003,301,73,32767,32767,32767,260\\r\\n20181003,401,77,32767,32767,32767,254\\r\\n20181003,501,79,6,85,32767,249\\r\\n20181003,601,79,5,58,32767,249\\r\\n20181003,701,76,4,133,32767,251\\r\\n20181003,801,73,7,86,32767,259\\r\\n20181003,901,66,38,104,32767,263\\r\\n20181003,1001,55,33,89,32767,276\\r\\n20181003,1101,46,16,42,32767,276\\r\\n20181003,1201,42,18,81,32767,289\\r\\n20181003,1301,52,32767,32767,32767,291\\r\\n20181003,1401,51,21,80,32767,293\\r\\n20181003,1501,57,32767,32767,32767,289\\r\\n20181003,1601,63,32767,32767,32767,281\\r\\n20181003,1701,64,32767,32767,32767,272\\r\\n20181003,1801,64,11,70,32767,266\\r\\n20181003,1901,63,32767,32767,32767,262\\r\\n20181003,2001,63,32767,32767,32767,261\\r\\n20181003,2101,64,32767,32767,32767,261\\r\\n20181003,2201,65,32767,32767,32767,259\\r\\n20181003,2301,68,32767,32767,32767,256\\r\\n20181004,1,69,32767,32767,32767,253\\r\\n20181004,101,69,32767,32767,32767,252\\r\\n20181004,201,69,32767,32767,32767,252\\r\\n20181004,301,70,32767,32767,32767,251\\r\\n20181004,401,71,32767,32767,32767,248\\r\\n20181004,501,69,32767,32767,32767,249\\r\\n20181004,601,69,32767,32767,32767,247\\r\\n20181004,701,59,32767,32767,32767,249\\r\\n20181004,801,51,2,101,32767,268\\r\\n20181004,901,48,32767,32767,32767,265\\r\\n20181004,1001,40,32767,32767,32767,273\\r\\n20181004,1101,38,32767,32767,32767,279\\r\\n20181004,1201,35,32767,32767,32767,290\\r\\n20181004,1301,34,18,129,32767,293\\r\\n20181004,1401,30,32767,32767,32767,315\\r\\n20181004,1501,29,20,141,32767,315\\r\\n20181004,1601,28,12,156,32767,323\\r\\n20181004,1701,41,6,138,32767,293\\r\\n20181004,1801,44,32767,32767,32767,288\\r\\n20181004,1901,45,32767,32767,32767,282\\r\\n20181004,2001,50,32767,32767,32767,276\\r\\n20181004,2101,47,1,148,32767,274\\r\\n20181004,2201,37,8,199,32767,279\\r\\n20181004,2301,35,22,93,32767,276\\r\\n20181005,1,37,17,115,32767,269\\r\\n20181005,101,35,17,162,32767,266\\r\\n20181005,201,34,32767,32767,32767,264\\r\\n20181005,301,33,32767,32767,32767,261\\r\\n20181005,401,32,9,152,32767,258\\r\\n20181005,501,34,32767,32767,32767,253\\r\\n20181005,601,36,4,149,32767,247\\r\\n20181005,701,36,23,163,32767,246\\r\\n20181005,801,33,32767,32767,32767,265\\r\\n20181005,901,34,32767,32767,32767,257\\r\\n20181005,1001,35,32767,32767,32767,262\\r\\n20181005,1101,34,32767,32767,32767,268\\r\\n20181005,1201,33,32767,32767,32767,275\\r\\n20181005,1401,24,32767,32767,32767,293\\r\\n20181005,1501,24,32767,32767,32767,315\\r\\n20181005,1601,26,32767,32767,32767,314\\r\\n20181005,1701,29,32767,32767,32767,299\\r\\n20181005,1801,28,32767,32767,32767,291\\r\\n20181005,1901,31,32767,32767,32767,286\\r\\n20181005,2001,32,32767,32767,32767,283\\r\\n20181005,2101,35,32767,32767,32767,276\\r\\n20181005,2201,31,32767,32767,32767,276\\r\\n20181005,2301,31,32767,32767,32767,272\\r\\n20181006,1,32,32767,32767,32767,266\\r\\n20181006,101,33,32767,32767,32767,263\\r\\n20181006,201,35,32767,32767,32767,257\\r\\n20181006,301,37,32767,32767,32767,251\\r\\n20181006,401,36,32767,32767,32767,248\\r\\n20181006,501,38,32767,32767,32767,244\\r\\n20181006,601,37,32767,32767,32767,246\\r\\n20181006,701,38,32767,32767,32767,246\\r\\n20181006,801,36,32767,32767,32767,261\\r\\n20181006,901,36,32767,32767,32767,259\\r\\n20181006,1001,36,32767,32767,32767,269\\r\\n20181006,1101,37,32767,32767,32767,276\\r\\n20181006,1201,33,32767,32767,32767,290\\r\\n20181006,1301,32,32767,32767,32767,291\\r\\n20181006,1401,31,32767,32767,32767,308\\r\\n20181006,1501,32,32767,32767,32767,308\\r\\n20181006,1601,33,32767,32767,32767,301\\r\\n20181006,1701,36,32767,32767,32767,288\\r\\n20181006,1801,41,32767,32767,32767,277\\r\\n20181006,1901,45,32767,32767,32767,270\\r\\n20181006,2001,51,32767,32767,32767,266\\r\\n20181006,2101,58,32767,32767,32767,262\\r\\n20181006,2201,61,32767,32767,32767,260\\r\\n20181006,2301,66,32767,32767,32767,260\\r\\n20181007,1,68,32767,32767,32767,261\\r\\n20181007,101,70,32767,32767,32767,259\\r\\n20181007,201,75,32767,32767,32767,256\\r\\n20181007,301,77,32767,32767,32767,253\\r\\n20181007,401,78,8,105,32767,252\\r\\n20181007,501,76,7,76,32767,252\\r\\n20181007,601,77,32767,32767,32767,252\\r\\n20181007,701,76,32767,32767,32767,251\\r\\n20181007,801,66,32767,32767,32767,271\\r\\n20181007,901,60,32767,32767,32767,268\\r\\n20181007,1001,54,32767,32767,32767,277\\r\\n20181007,1101,53,32767,32767,32767,280\\r\\n20181007,1201,50,32767,32767,32767,288\\r\\n20181007,1301,52,32767,32767,32767,293\\r\\n20181007,1401,49,32767,32767,32767,300\\r\\n20181007,1501,52,12,337,32767,291\\r\\n20181007,1601,51,32767,32767,32767,294\\r\\n20181007,1701,61,32767,32767,32767,279\\r\\n20181007,1801,71,32767,32767,32767,268\\r\\n20181007,1901,74,32767,32767,32767,265\\r\\n20181007,2001,75,32767,32767,32767,265\\r\\n20181007,2101,76,32767,32767,32767,265\\r\\n20181007,2201,76,32767,32767,32767,263\\r\\n20181007,2301,76,32767,32767,32767,262\\r\\n20181008,1,77,32767,32767,32767,261\\r\\n20181008,101,78,32767,32767,32767,259\\r\\n20181008,201,78,32767,32767,32767,259\\r\\n20181008,301,78,32767,32767,32767,260\\r\\n20181008,401,81,32767,32767,32767,257\\r\\n20181008,501,83,32767,32767,32767,257\\r\\n20181008,601,84,32767,32767,32767,252\\r\\n20181008,701,78,32767,32767,32767,256\\r\\n20181008,801,78,32767,32767,32767,259\\r\\n20181008,901,71,32767,32767,32767,271\\r\\n20181008,1001,68,32767,32767,32767,275\\r\\n20181008,1101,60,32767,32767,32767,276\\r\\n20181008,1201,62,32767,32767,32767,275\\r\\n20181008,1301,61,32767,32767,32767,279\\r\\n20181008,1401,55,32767,32767,32767,294\\r\\n20181008,1501,56,32767,32767,32767,291\\r\\n20181008,1601,57,32767,32767,32767,289\\r\\n20181008,1701,63,32767,32767,32767,276\\r\\n20181008,1801,71,32767,32767,32767,266\\r\\n20181008,1901,74,32767,32767,32767,264\\r\\n20181008,2001,75,32767,32767,32767,263\\r\\n20181008,2101,76,32767,32767,32767,263\\r\\n20181008,2201,76,32767,32767,32767,263\\r\\n20181008,2301,78,32767,32767,32767,262\\r\\n20181009,1,78,32767,32767,32767,261\\r\\n20181009,101,80,32767,32767,32767,261\\r\\n20181009,201,81,32767,32767,32767,258\\r\\n20181009,301,82,32767,32767,32767,257\\r\\n20181009,401,83,32767,32767,32767,256\\r\\n20181009,501,83,32767,32767,32767,255\\r\\n20181009,601,83,32767,32767,32767,254\\r\\n20181009,701,82,32767,32767,32767,255\\r\\n20181009,801,82,32767,32767,32767,258\\r\\n20181009,901,88,32767,32767,32767,257\\r\\n20181009,1001,83,32767,32767,32767,261\\r\\n20181009,1101,76,32767,32767,32767,268\\r\\n20181009,1201,72,32767,32767,32767,274\\r\\n20181009,1401,65,32767,32767,32767,290\\r\\n20181009,1501,67,32767,32767,32767,289\\r\\n20181009,1601,67,32767,32767,32767,285\\r\\n20181009,1701,72,32767,32767,32767,275\\r\\n20181009,1801,72,32767,32767,32767,270\\r\\n20181009,1901,77,32767,32767,32767,267\\r\\n20181009,2001,75,32767,32767,32767,265\\r\\n20181009,2101,77,32767,32767,32767,263\\r\\n20181009,2201,77,32767,32767,32767,263\\r\\n20181009,2301,78,32767,32767,32767,262\\r\\n20181010,1,77,32767,32767,32767,261\\r\\n20181010,101,78,32767,32767,32767,259\\r\\n20181010,201,79,32767,32767,32767,256\\r\\n20181010,301,80,32767,32767,32767,254\\r\\n20181010,401,81,32767,32767,32767,253\\r\\n20181010,501,81,32767,32767,32767,250\\r\\n20181010,601,78,32767,32767,32767,251\\r\\n20181010,701,78,32767,32767,32767,257\\r\\n20181010,801,77,32767,32767,32767,264\\r\\n20181010,901,75,32767,32767,32767,270\\r\\n20181010,1001,70,32767,32767,32767,276\\r\\n20181010,1101,70,32767,32767,32767,280\\r\\n20181010,1201,76,32767,32767,32767,277\\r\\n20181010,1301,90,32767,32767,32767,253\\r\\n20181010,1401,98,0,65,32767,236\\r\\n20181010,1501,94,2,316,32767,240\\r\\n20181010,1601,90,2,316,32767,238\\r\\n20181010,1701,93,7,116,32767,234\\r\\n20181010,1801,85,26,159,32767,234\\r\\n20181010,1901,77,10,136,32767,243\\r\\n20181010,2001,76,14,143,32767,242\\r\\n20181010,2101,66,7,306,32767,243\\r\\n20181010,2201,68,11,106,32767,241\\r\\n20181010,2301,69,5,86,32767,240\\r\\n20181011,1,72,8,138,32767,234\\r\\n20181011,101,72,6,154,32767,233\\r\\n20181011,201,71,25,160,32767,228\\r\\n20181011,301,72,3,158,32767,227\\r\\n20181011,401,67,16,164,32767,231\\r\\n20181011,501,67,7,155,32767,232\\r\\n20181011,601,66,32767,32767,32767,233\\r\\n20181011,701,67,32767,32767,32767,230\\r\\n20181011,801,72,32767,32767,32767,225\\r\\n20181011,901,68,32767,32767,32767,233\\r\\n20181011,1001,65,32767,32767,32767,243\\r\\n20181011,1101,64,27,152,32767,244\\r\\n20181011,1201,62,10,157,32767,248\\r\\n20181011,1301,64,3,154,32767,245\\r\\n20181011,1401,65,15,126,32767,245\\r\\n20181011,1501,66,15,167,32767,240\\r\\n20181011,1601,65,13,149,32767,236\\r\\n20181011,1701,66,15,159,32767,236\\r\\n20181011,1801,65,8,153,32767,233\\r\\n20181011,1901,65,18,138,32767,233\\r\\n20181011,2001,66,28,161,32767,230\\r\\n20181011,2101,68,1,104,32767,231\\r\\n20181016,1601,93,32767,32767,32767,241\\r\\n20181016,1701,95,32767,32767,32767,232\\r\\n20181016,1801,96,32767,32767,32767,236\\r\\n20181016,1901,93,32767,32767,32767,235\\r\\n20181016,2001,93,32767,32767,32767,236\\r\\n20181016,2101,89,32767,32767,32767,239\\r\\n20181016,2201,88,32767,32767,32767,242\\r\\n20181016,2301,85,32767,32767,32767,238\\r\\n20181017,1,85,32767,32767,32767,239\\r\\n20181017,101,83,32767,32767,32767,241\\r\\n20181017,201,84,0,286,32767,238\\r\\n20181017,301,82,4,151,32767,243\\r\\n20181017,401,83,5,159,32767,242\\r\\n20181017,501,83,8,107,32767,237\\r\\n20181017,601,82,32767,32767,32767,237\\r\\n20181017,701,84,32767,32767,32767,228\\r\\n20181017,801,85,32767,32767,32767,230\\r\\n20181017,901,82,32767,32767,32767,238\\r\\n20181017,1001,76,7,121,32767,252\\r\\n20181017,1101,72,32767,32767,32767,251\\r\\n20181017,1201,72,32767,32767,32767,251\\r\\n20181017,1301,75,32767,32767,32767,249\\r\\n20181017,1401,75,32767,32767,32767,248\\r\\n20181017,1501,78,32767,32767,32767,246\\r\\n20181017,1601,86,32767,32767,32767,231\\r\\n20181017,1701,93,32767,32767,32767,216\\r\\n20181017,1801,90,32767,32767,32767,224\\r\\n20181017,1901,87,32767,32767,32767,224\\r\\n20181017,2001,86,32767,32767,32767,225\\r\\n20181017,2101,86,32767,32767,32767,226\\r\\n20181017,2201,88,32767,32767,32767,227\\r\\n20181017,2301,89,32767,32767,32767,226\\r\\n20181018,1,91,32767,32767,32767,224\\r\\n20181018,101,94,32767,32767,32767,220\\r\\n20181018,201,92,32767,32767,32767,223\\r\\n20181018,301,93,32767,32767,32767,220\\r\\n20181018,401,91,32767,32767,32767,219\\r\\n20181018,501,89,32767,32767,32767,222\\r\\n20181018,601,96,32767,32767,32767,212\\r\\n20181018,701,94,9,106,32767,213\\r\\n20181018,801,95,28,111,32767,210\\r\\n20181018,901,94,26,85,32767,212\\r\\n20181018,1001,93,11,92,32767,216\\r\\n20181018,1101,89,3,19,32767,220\\r\\n20181018,1201,87,32767,32767,32767,227\\r\\n20181018,1301,88,32767,32767,32767,227\\r\\n20181018,1401,87,32767,32767,32767,231\\r\\n20181018,1501,79,32767,32767,32767,239\\r\\n20181018,1601,83,32767,32767,32767,233\\r\\n20181018,1701,82,32767,32767,32767,235\\r\\n20181018,1801,85,32767,32767,32767,231\\r\\n20181018,1901,82,32767,32767,32767,233\\r\\n20181018,2001,82,32767,32767,32767,235\\r\\n20181018,2101,82,32767,32767,32767,235\\r\\n20181018,2201,81,32767,32767,32767,237\\r\\n20181018,2301,77,32767,32767,32767,242\\r\\n20181019,1,75,32767,32767,32767,243\\r\\n20181019,101,86,32767,32767,32767,230\\r\\n20181019,201,91,32767,32767,32767,225\\r\\n20181019,301,90,32767,32767,32767,226\\r\\n20181019,401,76,32767,32767,32767,237\\r\\n20181019,501,76,32767,32767,32767,237\\r\\n20181019,601,75,32767,32767,32767,238\\r\\n20181019,701,75,32767,32767,32767,239\\r\\n20181019,801,75,32767,32767,32767,240\\r\\n20181019,901,73,32767,32767,32767,245\\r\\n20181019,1001,70,32767,32767,32767,249\\r\\n20181019,1101,68,32767,32767,32767,253\\r\\n20181019,1201,68,32767,32767,32767,254\\r\\n20181019,1301,68,32767,32767,32767,253\\r\\n20181019,1401,71,32767,32767,32767,250\\r\\n20181019,1501,73,32767,32767,32767,251\\r\\n20181019,1601,74,32767,32767,32767,250\\r\\n20181019,1701,78,32767,32767,32767,245\\r\\n20181019,1801,78,32767,32767,32767,247\\r\\n20181019,1901,77,32767,32767,32767,246\\r\\n20181019,2001,76,32767,32767,32767,245\\r\\n20181019,2101,78,32767,32767,32767,243\\r\\n20181019,2201,79,32767,32767,32767,242\\r\\n20181019,2301,80,32767,32767,32767,241\\r\\n20181020,1,80,32767,32767,32767,240\\r\\n20181020,101,81,32767,32767,32767,239\\r\\n20181020,201,82,32767,32767,32767,238\\r\\n20181020,301,84,32767,32767,32767,238\\r\\n20181020,401,84,32767,32767,32767,238\\r\\n20181020,501,81,32767,32767,32767,236\\r\\n20181020,601,79,32767,32767,32767,235\\r\\n20181020,701,76,32767,32767,32767,235\\r\\n20181020,801,73,32767,32767,32767,239\\r\\n20181020,901,74,32767,32767,32767,243\\r\\n'}"
            ]
          },
          "metadata": {
            "tags": []
          },
          "execution_count": 10
        }
      ]
    },
    {
      "cell_type": "markdown",
      "metadata": {
        "id": "Z8MW-2lSPaOm",
        "colab_type": "text"
      },
      "source": [
        "**TPOT Program**"
      ]
    },
    {
      "cell_type": "code",
      "metadata": {
        "id": "TSifU0hHQ1GW",
        "colab_type": "code",
        "outputId": "cbd575ca-7444-428f-f2ee-fe5980a12de1",
        "colab": {
          "base_uri": "https://localhost:8080/",
          "height": 34
        }
      },
      "source": [
        "ls"
      ],
      "execution_count": 0,
      "outputs": [
        {
          "output_type": "stream",
          "text": [
            "ZeroCarbonBuilding1.csv\n"
          ],
          "name": "stdout"
        }
      ]
    },
    {
      "cell_type": "code",
      "metadata": {
        "id": "sUC57e4FPcu-",
        "colab_type": "code",
        "colab": {}
      },
      "source": [
        "import pandas as pd\n",
        "import matplotlib as plt\n",
        "from sklearn.datasets import load_digits\n",
        "from sklearn.model_selection import train_test_split\n",
        "from pandas import DataFrame, read_csv\n",
        "\n",
        "\n",
        "location = 'ZeroCarbonBuilding1.csv'\n",
        "df = pd.read_csv(location)\n",
        "features = df[['a', 'b', 'c', 'd', 'e', 'f']]\n",
        "labels = df['target']"
      ],
      "execution_count": 0,
      "outputs": []
    },
    {
      "cell_type": "code",
      "metadata": {
        "id": "MNvHqlNxPp3T",
        "colab_type": "code",
        "colab": {}
      },
      "source": [
        "X_train, X_test, y_train, y_test = train_test_split(features, labels,\n",
        "                                                    train_size=0.7, test_size=0.3)\n",
        "\n",
        "\n",
        "# X_train, X_test, y_train, y_test = train_test_split(features, labels,\n",
        "#                                                     train_size=0.75, test_size=0.25)"
      ],
      "execution_count": 0,
      "outputs": []
    },
    {
      "cell_type": "code",
      "metadata": {
        "id": "8DnZMVgr5B3p",
        "colab_type": "code",
        "outputId": "5ee9fc0e-1f03-4ae2-9c70-c1baf9ded182",
        "colab": {
          "base_uri": "https://localhost:8080/",
          "height": 1513
        }
      },
      "source": [
        "from tpot import TPOTClassifier\n",
        "tpot = TPOTClassifier(generations=500, population_size=100, verbosity=2)\n",
        "tpot.fit(X_train, y_train)\n",
        "print(tpot.score(X_test, y_test))\n",
        "tpot.export('tpot_mnist_pipeline56.py')"
      ],
      "execution_count": 0,
      "outputs": [
        {
          "output_type": "stream",
          "text": [
            "Optimization Progress:   0%|          | 200/50100 [23:46<139:28:52, 10.06s/pipeline]"
          ],
          "name": "stderr"
        },
        {
          "output_type": "stream",
          "text": [
            "Generation 1 - Current best internal CV score: 0.15127302776044194\n"
          ],
          "name": "stdout"
        },
        {
          "output_type": "stream",
          "text": [
            "Optimization Progress:   1%|          | 300/50100 [36:07<23:30:17,  1.70s/pipeline]"
          ],
          "name": "stderr"
        },
        {
          "output_type": "stream",
          "text": [
            "Generation 2 - Current best internal CV score: 0.15237110810623394\n"
          ],
          "name": "stdout"
        },
        {
          "output_type": "stream",
          "text": [
            "Optimization Progress:   1%|          | 400/50100 [49:45<110:51:23,  8.03s/pipeline]"
          ],
          "name": "stderr"
        },
        {
          "output_type": "stream",
          "text": [
            "Generation 3 - Current best internal CV score: 0.15439802776044192\n"
          ],
          "name": "stdout"
        },
        {
          "output_type": "stream",
          "text": [
            "Optimization Progress:   1%|          | 500/50100 [56:34<48:06:40,  3.49s/pipeline]"
          ],
          "name": "stderr"
        },
        {
          "output_type": "stream",
          "text": [
            "Generation 4 - Current best internal CV score: 0.15439802776044192\n"
          ],
          "name": "stdout"
        },
        {
          "output_type": "stream",
          "text": [
            "Optimization Progress:   1%|          | 600/50100 [1:05:46<91:16:06,  6.64s/pipeline]"
          ],
          "name": "stderr"
        },
        {
          "output_type": "stream",
          "text": [
            "Generation 5 - Current best internal CV score: 0.1600340986139041\n"
          ],
          "name": "stdout"
        },
        {
          "output_type": "stream",
          "text": [
            "Optimization Progress:   1%|▏         | 700/50100 [1:16:07<224:33:13, 16.36s/pipeline]"
          ],
          "name": "stderr"
        },
        {
          "output_type": "stream",
          "text": [
            "Generation 6 - Current best internal CV score: 0.1600340986139041\n"
          ],
          "name": "stdout"
        },
        {
          "output_type": "stream",
          "text": [
            "Optimization Progress:   2%|▏         | 800/50100 [1:26:08<138:47:16, 10.13s/pipeline]"
          ],
          "name": "stderr"
        },
        {
          "output_type": "stream",
          "text": [
            "Generation 7 - Current best internal CV score: 0.17480819830648206\n"
          ],
          "name": "stdout"
        },
        {
          "output_type": "stream",
          "text": [
            "Optimization Progress:   2%|▏         | 900/50100 [1:35:21<55:56:13,  4.09s/pipeline]"
          ],
          "name": "stderr"
        },
        {
          "output_type": "stream",
          "text": [
            "Generation 8 - Current best internal CV score: 0.17480819830648206\n"
          ],
          "name": "stdout"
        },
        {
          "output_type": "stream",
          "text": [
            "Optimization Progress:   2%|▏         | 1000/50100 [1:45:22<126:26:34,  9.27s/pipeline]"
          ],
          "name": "stderr"
        },
        {
          "output_type": "stream",
          "text": [
            "Generation 9 - Current best internal CV score: 0.17480819830648206\n"
          ],
          "name": "stdout"
        },
        {
          "output_type": "stream",
          "text": [
            "Optimization Progress:   2%|▏         | 1100/50100 [1:56:21<95:53:06,  7.04s/pipeline]"
          ],
          "name": "stderr"
        },
        {
          "output_type": "stream",
          "text": [
            "Generation 10 - Current best internal CV score: 0.17480819830648206\n"
          ],
          "name": "stdout"
        },
        {
          "output_type": "stream",
          "text": [
            "Optimization Progress:   2%|▏         | 1200/50100 [2:10:45<169:57:44, 12.51s/pipeline]"
          ],
          "name": "stderr"
        },
        {
          "output_type": "stream",
          "text": [
            "Generation 11 - Current best internal CV score: 0.18011580334234795\n"
          ],
          "name": "stdout"
        },
        {
          "output_type": "stream",
          "text": [
            "Optimization Progress:   3%|▎         | 1300/50100 [2:22:45<213:41:26, 15.76s/pipeline]"
          ],
          "name": "stderr"
        },
        {
          "output_type": "stream",
          "text": [
            "Generation 12 - Current best internal CV score: 0.18011580334234795\n"
          ],
          "name": "stdout"
        },
        {
          "output_type": "stream",
          "text": [
            "Optimization Progress:   3%|▎         | 1400/50100 [2:31:26<104:54:22,  7.75s/pipeline]"
          ],
          "name": "stderr"
        },
        {
          "output_type": "stream",
          "text": [
            "Generation 13 - Current best internal CV score: 0.18011580334234795\n"
          ],
          "name": "stdout"
        },
        {
          "output_type": "stream",
          "text": [
            "Optimization Progress:   3%|▎         | 1500/50100 [2:36:57<37:55:50,  2.81s/pipeline]"
          ],
          "name": "stderr"
        },
        {
          "output_type": "stream",
          "text": [
            "Generation 14 - Current best internal CV score: 0.18011580334234795\n"
          ],
          "name": "stdout"
        },
        {
          "output_type": "stream",
          "text": [
            "Optimization Progress:   3%|▎         | 1600/50100 [2:41:50<45:57:22,  3.41s/pipeline]"
          ],
          "name": "stderr"
        },
        {
          "output_type": "stream",
          "text": [
            "Generation 15 - Current best internal CV score: 0.18237634737920777\n"
          ],
          "name": "stdout"
        },
        {
          "output_type": "stream",
          "text": [
            "Optimization Progress:   3%|▎         | 1700/50100 [2:48:08<131:49:41,  9.81s/pipeline]"
          ],
          "name": "stderr"
        },
        {
          "output_type": "stream",
          "text": [
            "Generation 16 - Current best internal CV score: 0.18237634737920777\n"
          ],
          "name": "stdout"
        },
        {
          "output_type": "stream",
          "text": [
            "Optimization Progress:   4%|▎         | 1800/50100 [2:55:36<39:19:50,  2.93s/pipeline]"
          ],
          "name": "stderr"
        },
        {
          "output_type": "stream",
          "text": [
            "Generation 17 - Current best internal CV score: 0.18237634737920777\n"
          ],
          "name": "stdout"
        },
        {
          "output_type": "stream",
          "text": [
            "Optimization Progress:   4%|▍         | 1900/50100 [3:04:26<110:26:06,  8.25s/pipeline]"
          ],
          "name": "stderr"
        },
        {
          "output_type": "stream",
          "text": [
            "Generation 18 - Current best internal CV score: 0.18237634737920777\n"
          ],
          "name": "stdout"
        },
        {
          "output_type": "stream",
          "text": [
            "Optimization Progress:   4%|▍         | 2000/50100 [3:09:03<26:45:36,  2.00s/pipeline]"
          ],
          "name": "stderr"
        },
        {
          "output_type": "stream",
          "text": [
            "Generation 19 - Current best internal CV score: 0.18237634737920777\n"
          ],
          "name": "stdout"
        },
        {
          "output_type": "stream",
          "text": [
            "Optimization Progress:   4%|▍         | 2100/50100 [3:14:30<21:58:00,  1.65s/pipeline]"
          ],
          "name": "stderr"
        },
        {
          "output_type": "stream",
          "text": [
            "Generation 20 - Current best internal CV score: 0.18237634737920777\n"
          ],
          "name": "stdout"
        },
        {
          "output_type": "stream",
          "text": [
            "Optimization Progress:   4%|▍         | 2200/50100 [3:19:43<32:11:25,  2.42s/pipeline]"
          ],
          "name": "stderr"
        },
        {
          "output_type": "stream",
          "text": [
            "Generation 21 - Current best internal CV score: 0.18237634737920777\n"
          ],
          "name": "stdout"
        },
        {
          "output_type": "stream",
          "text": [
            "Optimization Progress:   5%|▍         | 2300/50100 [3:25:10<53:10:49,  4.01s/pipeline]"
          ],
          "name": "stderr"
        },
        {
          "output_type": "stream",
          "text": [
            "Generation 22 - Current best internal CV score: 0.18237634737920777\n"
          ],
          "name": "stdout"
        },
        {
          "output_type": "stream",
          "text": [
            "Optimization Progress:   5%|▍         | 2400/50100 [3:32:06<41:27:36,  3.13s/pipeline]"
          ],
          "name": "stderr"
        },
        {
          "output_type": "stream",
          "text": [
            "Generation 23 - Current best internal CV score: 0.18237634737920777\n"
          ],
          "name": "stdout"
        },
        {
          "output_type": "stream",
          "text": [
            "Optimization Progress:   5%|▍         | 2500/50100 [3:40:13<53:33:45,  4.05s/pipeline]"
          ],
          "name": "stderr"
        },
        {
          "output_type": "stream",
          "text": [
            "Generation 24 - Current best internal CV score: 0.18237634737920777\n"
          ],
          "name": "stdout"
        },
        {
          "output_type": "stream",
          "text": [
            "Optimization Progress:   5%|▌         | 2600/50100 [3:47:01<29:47:16,  2.26s/pipeline]"
          ],
          "name": "stderr"
        },
        {
          "output_type": "stream",
          "text": [
            "Generation 25 - Current best internal CV score: 0.18237634737920777\n"
          ],
          "name": "stdout"
        },
        {
          "output_type": "stream",
          "text": [
            "Optimization Progress:   5%|▌         | 2700/50100 [3:53:21<37:30:02,  2.85s/pipeline]"
          ],
          "name": "stderr"
        },
        {
          "output_type": "stream",
          "text": [
            "Generation 26 - Current best internal CV score: 0.18237634737920777\n"
          ],
          "name": "stdout"
        },
        {
          "output_type": "stream",
          "text": [
            "Optimization Progress:   6%|▌         | 2800/50100 [4:00:02<46:27:40,  3.54s/pipeline]"
          ],
          "name": "stderr"
        },
        {
          "output_type": "stream",
          "text": [
            "Generation 27 - Current best internal CV score: 0.18237634737920777\n"
          ],
          "name": "stdout"
        },
        {
          "output_type": "stream",
          "text": [
            "Optimization Progress:   6%|▌         | 2900/50100 [4:07:16<52:58:57,  4.04s/pipeline]"
          ],
          "name": "stderr"
        },
        {
          "output_type": "stream",
          "text": [
            "Generation 28 - Current best internal CV score: 0.18237634737920777\n"
          ],
          "name": "stdout"
        },
        {
          "output_type": "stream",
          "text": [
            "Optimization Progress:   6%|▌         | 3000/50100 [4:15:18<34:39:36,  2.65s/pipeline]"
          ],
          "name": "stderr"
        },
        {
          "output_type": "stream",
          "text": [
            "Generation 29 - Current best internal CV score: 0.18237634737920777\n"
          ],
          "name": "stdout"
        },
        {
          "output_type": "stream",
          "text": [
            "Optimization Progress:   6%|▌         | 3100/50100 [4:24:21<33:27:33,  2.56s/pipeline]"
          ],
          "name": "stderr"
        },
        {
          "output_type": "stream",
          "text": [
            "Generation 30 - Current best internal CV score: 0.18451686487298616\n"
          ],
          "name": "stdout"
        },
        {
          "output_type": "stream",
          "text": [
            "Optimization Progress:   6%|▋         | 3200/50100 [4:31:21<72:18:20,  5.55s/pipeline]"
          ],
          "name": "stderr"
        },
        {
          "output_type": "stream",
          "text": [
            "Generation 31 - Current best internal CV score: 0.18451686487298616\n"
          ],
          "name": "stdout"
        },
        {
          "output_type": "stream",
          "text": [
            "Optimization Progress:   7%|▋         | 3300/50100 [4:38:41<80:16:48,  6.18s/pipeline]"
          ],
          "name": "stderr"
        },
        {
          "output_type": "stream",
          "text": [
            "Generation 32 - Current best internal CV score: 0.18451686487298616\n"
          ],
          "name": "stdout"
        },
        {
          "output_type": "stream",
          "text": [
            "Optimization Progress:   7%|▋         | 3400/50100 [4:44:35<34:40:14,  2.67s/pipeline]"
          ],
          "name": "stderr"
        },
        {
          "output_type": "stream",
          "text": [
            "Generation 33 - Current best internal CV score: 0.18451686487298616\n"
          ],
          "name": "stdout"
        },
        {
          "output_type": "stream",
          "text": [
            "Optimization Progress:   7%|▋         | 3500/50100 [4:51:20<56:19:37,  4.35s/pipeline]"
          ],
          "name": "stderr"
        },
        {
          "output_type": "stream",
          "text": [
            "Generation 34 - Current best internal CV score: 0.18451686487298616\n"
          ],
          "name": "stdout"
        },
        {
          "output_type": "stream",
          "text": [
            "Optimization Progress:   7%|▋         | 3600/50100 [4:59:39<43:28:05,  3.37s/pipeline]"
          ],
          "name": "stderr"
        },
        {
          "output_type": "stream",
          "text": [
            "Generation 35 - Current best internal CV score: 0.18451686487298616\n"
          ],
          "name": "stdout"
        },
        {
          "output_type": "stream",
          "text": [
            "Optimization Progress:   7%|▋         | 3700/50100 [5:07:34<43:58:54,  3.41s/pipeline]"
          ],
          "name": "stderr"
        },
        {
          "output_type": "stream",
          "text": [
            "Generation 36 - Current best internal CV score: 0.18451686487298616\n"
          ],
          "name": "stdout"
        },
        {
          "output_type": "stream",
          "text": [
            "Optimization Progress:   8%|▊         | 3800/50100 [5:17:42<39:57:52,  3.11s/pipeline]"
          ],
          "name": "stderr"
        },
        {
          "output_type": "stream",
          "text": [
            "Generation 37 - Current best internal CV score: 0.18451686487298616\n"
          ],
          "name": "stdout"
        },
        {
          "output_type": "stream",
          "text": [
            "Optimization Progress:   8%|▊         | 3900/50100 [5:24:45<59:26:37,  4.63s/pipeline]"
          ],
          "name": "stderr"
        },
        {
          "output_type": "stream",
          "text": [
            "Generation 38 - Current best internal CV score: 0.18451686487298616\n"
          ],
          "name": "stdout"
        },
        {
          "output_type": "stream",
          "text": [
            "Optimization Progress:   8%|▊         | 4000/50100 [5:32:56<41:12:58,  3.22s/pipeline]"
          ],
          "name": "stderr"
        },
        {
          "output_type": "stream",
          "text": [
            "Generation 39 - Current best internal CV score: 0.18451686487298616\n"
          ],
          "name": "stdout"
        },
        {
          "output_type": "stream",
          "text": [
            "Optimization Progress:   8%|▊         | 4100/50100 [5:39:38<31:12:09,  2.44s/pipeline]"
          ],
          "name": "stderr"
        },
        {
          "output_type": "stream",
          "text": [
            "Generation 40 - Current best internal CV score: 0.18451686487298616\n"
          ],
          "name": "stdout"
        },
        {
          "output_type": "stream",
          "text": [
            "Optimization Progress:   8%|▊         | 4200/50100 [5:47:35<34:36:52,  2.71s/pipeline]"
          ],
          "name": "stderr"
        },
        {
          "output_type": "stream",
          "text": [
            "Generation 41 - Current best internal CV score: 0.18451686487298616\n"
          ],
          "name": "stdout"
        },
        {
          "output_type": "stream",
          "text": [
            "Optimization Progress:   9%|▊         | 4300/50100 [5:54:42<31:18:44,  2.46s/pipeline]"
          ],
          "name": "stderr"
        },
        {
          "output_type": "stream",
          "text": [
            "Generation 42 - Current best internal CV score: 0.18451686487298616\n"
          ],
          "name": "stdout"
        },
        {
          "output_type": "stream",
          "text": [
            "Optimization Progress:   9%|▉         | 4400/50100 [6:02:50<60:07:33,  4.74s/pipeline]"
          ],
          "name": "stderr"
        },
        {
          "output_type": "stream",
          "text": [
            "Generation 43 - Current best internal CV score: 0.18451686487298616\n"
          ],
          "name": "stdout"
        },
        {
          "output_type": "stream",
          "text": [
            "Optimization Progress:   9%|▉         | 4500/50100 [6:12:34<26:59:12,  2.13s/pipeline]"
          ],
          "name": "stderr"
        },
        {
          "output_type": "stream",
          "text": [
            "Generation 44 - Current best internal CV score: 0.18451686487298616\n"
          ],
          "name": "stdout"
        },
        {
          "output_type": "stream",
          "text": [
            "Optimization Progress:   9%|▉         | 4600/50100 [6:21:39<46:36:02,  3.69s/pipeline]"
          ],
          "name": "stderr"
        },
        {
          "output_type": "stream",
          "text": [
            "Generation 45 - Current best internal CV score: 0.18451686487298616\n"
          ],
          "name": "stdout"
        },
        {
          "output_type": "stream",
          "text": [
            "Optimization Progress:   9%|▉         | 4700/50100 [6:28:42<33:38:24,  2.67s/pipeline]"
          ],
          "name": "stderr"
        },
        {
          "output_type": "stream",
          "text": [
            "Generation 46 - Current best internal CV score: 0.18451686487298616\n"
          ],
          "name": "stdout"
        },
        {
          "output_type": "stream",
          "text": [
            "Optimization Progress:  10%|▉         | 4800/50100 [6:37:58<74:46:37,  5.94s/pipeline]"
          ],
          "name": "stderr"
        },
        {
          "output_type": "stream",
          "text": [
            "Generation 47 - Current best internal CV score: 0.18451686487298616\n"
          ],
          "name": "stdout"
        },
        {
          "output_type": "stream",
          "text": [
            "Optimization Progress:  10%|▉         | 4900/50100 [6:45:12<39:59:51,  3.19s/pipeline]"
          ],
          "name": "stderr"
        },
        {
          "output_type": "stream",
          "text": [
            "Generation 48 - Current best internal CV score: 0.18451686487298616\n"
          ],
          "name": "stdout"
        },
        {
          "output_type": "stream",
          "text": [
            "Optimization Progress:  10%|▉         | 5000/50100 [6:54:01<65:46:17,  5.25s/pipeline]"
          ],
          "name": "stderr"
        },
        {
          "output_type": "stream",
          "text": [
            "Generation 49 - Current best internal CV score: 0.18451686487298616\n"
          ],
          "name": "stdout"
        },
        {
          "output_type": "stream",
          "text": [
            "Optimization Progress:  10%|█         | 5100/50100 [7:01:47<81:00:17,  6.48s/pipeline]"
          ],
          "name": "stderr"
        },
        {
          "output_type": "stream",
          "text": [
            "Generation 50 - Current best internal CV score: 0.18451686487298616\n"
          ],
          "name": "stdout"
        },
        {
          "output_type": "stream",
          "text": [
            "Optimization Progress:  10%|█         | 5200/50100 [7:07:51<35:48:03,  2.87s/pipeline]"
          ],
          "name": "stderr"
        },
        {
          "output_type": "stream",
          "text": [
            "Generation 51 - Current best internal CV score: 0.1941315808735717\n"
          ],
          "name": "stdout"
        },
        {
          "output_type": "stream",
          "text": [
            "Optimization Progress:  11%|█         | 5300/50100 [7:15:04<41:05:38,  3.30s/pipeline]"
          ],
          "name": "stderr"
        },
        {
          "output_type": "stream",
          "text": [
            "Generation 52 - Current best internal CV score: 0.1941315808735717\n"
          ],
          "name": "stdout"
        },
        {
          "output_type": "stream",
          "text": [
            "Optimization Progress:  11%|█         | 5400/50100 [7:25:34<53:58:37,  4.35s/pipeline]"
          ],
          "name": "stderr"
        },
        {
          "output_type": "stream",
          "text": [
            "Generation 53 - Current best internal CV score: 0.1941315808735717\n"
          ],
          "name": "stdout"
        },
        {
          "output_type": "stream",
          "text": [
            "Optimization Progress:  11%|█         | 5500/50100 [7:33:24<59:28:09,  4.80s/pipeline]"
          ],
          "name": "stderr"
        },
        {
          "output_type": "stream",
          "text": [
            "Generation 54 - Current best internal CV score: 0.1941315808735717\n"
          ],
          "name": "stdout"
        },
        {
          "output_type": "stream",
          "text": [
            "Optimization Progress:  11%|█         | 5600/50100 [7:42:43<53:26:33,  4.32s/pipeline]"
          ],
          "name": "stderr"
        },
        {
          "output_type": "stream",
          "text": [
            "Generation 55 - Current best internal CV score: 0.1941315808735717\n"
          ],
          "name": "stdout"
        },
        {
          "output_type": "stream",
          "text": [
            "Optimization Progress:  11%|█▏        | 5700/50100 [7:49:30<36:52:49,  2.99s/pipeline]"
          ],
          "name": "stderr"
        },
        {
          "output_type": "stream",
          "text": [
            "Generation 56 - Current best internal CV score: 0.1941315808735717\n"
          ],
          "name": "stdout"
        },
        {
          "output_type": "stream",
          "text": [
            "Optimization Progress:  12%|█▏        | 5800/50100 [7:55:38<37:31:21,  3.05s/pipeline]"
          ],
          "name": "stderr"
        },
        {
          "output_type": "stream",
          "text": [
            "Generation 57 - Current best internal CV score: 0.1941315808735717\n"
          ],
          "name": "stdout"
        },
        {
          "output_type": "stream",
          "text": [
            "Optimization Progress:  12%|█▏        | 5900/50100 [8:04:15<41:28:17,  3.38s/pipeline]"
          ],
          "name": "stderr"
        },
        {
          "output_type": "stream",
          "text": [
            "Generation 58 - Current best internal CV score: 0.1941315808735717\n"
          ],
          "name": "stdout"
        },
        {
          "output_type": "stream",
          "text": [
            "Optimization Progress:  12%|█▏        | 6000/50100 [8:11:30<43:40:58,  3.57s/pipeline]"
          ],
          "name": "stderr"
        },
        {
          "output_type": "stream",
          "text": [
            "Generation 59 - Current best internal CV score: 0.1941315808735717\n"
          ],
          "name": "stdout"
        },
        {
          "output_type": "stream",
          "text": [
            "Optimization Progress:  12%|█▏        | 6100/50100 [8:19:11<50:38:54,  4.14s/pipeline]"
          ],
          "name": "stderr"
        },
        {
          "output_type": "stream",
          "text": [
            "Generation 60 - Current best internal CV score: 0.1941315808735717\n"
          ],
          "name": "stdout"
        },
        {
          "output_type": "stream",
          "text": [
            "Optimization Progress:  12%|█▏        | 6200/50100 [8:27:02<29:30:45,  2.42s/pipeline]"
          ],
          "name": "stderr"
        },
        {
          "output_type": "stream",
          "text": [
            "Generation 61 - Current best internal CV score: 0.1941315808735717\n"
          ],
          "name": "stdout"
        },
        {
          "output_type": "stream",
          "text": [
            "Optimization Progress:  13%|█▎        | 6300/50100 [8:36:33<33:37:53,  2.76s/pipeline]"
          ],
          "name": "stderr"
        },
        {
          "output_type": "stream",
          "text": [
            "Generation 62 - Current best internal CV score: 0.1941315808735717\n"
          ],
          "name": "stdout"
        },
        {
          "output_type": "stream",
          "text": [
            "Optimization Progress:  13%|█▎        | 6400/50100 [8:43:42<49:59:35,  4.12s/pipeline]"
          ],
          "name": "stderr"
        },
        {
          "output_type": "stream",
          "text": [
            "Generation 63 - Current best internal CV score: 0.1941315808735717\n"
          ],
          "name": "stdout"
        },
        {
          "output_type": "stream",
          "text": [
            "Optimization Progress:  13%|█▎        | 6500/50100 [8:54:22<60:13:03,  4.97s/pipeline]"
          ],
          "name": "stderr"
        },
        {
          "output_type": "stream",
          "text": [
            "Generation 64 - Current best internal CV score: 0.1941315808735717\n"
          ],
          "name": "stdout"
        },
        {
          "output_type": "stream",
          "text": [
            "Optimization Progress:  13%|█▎        | 6600/50100 [9:02:58<78:44:20,  6.52s/pipeline]"
          ],
          "name": "stderr"
        },
        {
          "output_type": "stream",
          "text": [
            "Generation 65 - Current best internal CV score: 0.1941315808735717\n"
          ],
          "name": "stdout"
        },
        {
          "output_type": "stream",
          "text": [
            "Optimization Progress:  13%|█▎        | 6700/50100 [9:11:44<81:53:36,  6.79s/pipeline]"
          ],
          "name": "stderr"
        },
        {
          "output_type": "stream",
          "text": [
            "Generation 66 - Current best internal CV score: 0.1941315808735717\n"
          ],
          "name": "stdout"
        },
        {
          "output_type": "stream",
          "text": [
            "Optimization Progress:  14%|█▎        | 6800/50100 [9:19:13<50:20:15,  4.19s/pipeline]"
          ],
          "name": "stderr"
        },
        {
          "output_type": "stream",
          "text": [
            "Generation 67 - Current best internal CV score: 0.1941315808735717\n"
          ],
          "name": "stdout"
        },
        {
          "output_type": "stream",
          "text": [
            "Optimization Progress:  14%|█▍        | 6900/50100 [9:27:41<55:42:36,  4.64s/pipeline]"
          ],
          "name": "stderr"
        },
        {
          "output_type": "stream",
          "text": [
            "Generation 68 - Current best internal CV score: 0.1941315808735717\n"
          ],
          "name": "stdout"
        },
        {
          "output_type": "stream",
          "text": [
            "Optimization Progress:  14%|█▍        | 7000/50100 [9:34:03<73:58:43,  6.18s/pipeline]"
          ],
          "name": "stderr"
        },
        {
          "output_type": "stream",
          "text": [
            "Generation 69 - Current best internal CV score: 0.1941315808735717\n"
          ],
          "name": "stdout"
        },
        {
          "output_type": "stream",
          "text": [
            "Optimization Progress:  14%|█▍        | 7100/50100 [9:39:57<29:02:39,  2.43s/pipeline]"
          ],
          "name": "stderr"
        },
        {
          "output_type": "stream",
          "text": [
            "Generation 70 - Current best internal CV score: 0.1941315808735717\n"
          ],
          "name": "stdout"
        },
        {
          "output_type": "stream",
          "text": [
            "Optimization Progress:  14%|█▍        | 7200/50100 [9:45:57<61:23:30,  5.15s/pipeline]"
          ],
          "name": "stderr"
        },
        {
          "output_type": "stream",
          "text": [
            "Generation 71 - Current best internal CV score: 0.1941315808735717\n"
          ],
          "name": "stdout"
        },
        {
          "output_type": "stream",
          "text": [
            "Optimization Progress:  15%|█▍        | 7300/50100 [9:52:43<40:09:50,  3.38s/pipeline]"
          ],
          "name": "stderr"
        },
        {
          "output_type": "stream",
          "text": [
            "Generation 72 - Current best internal CV score: 0.1941315808735717\n"
          ],
          "name": "stdout"
        },
        {
          "output_type": "stream",
          "text": [
            "Optimization Progress:  15%|█▍        | 7400/50100 [9:59:20<41:48:19,  3.52s/pipeline]"
          ],
          "name": "stderr"
        },
        {
          "output_type": "stream",
          "text": [
            "Generation 73 - Current best internal CV score: 0.1941315808735717\n"
          ],
          "name": "stdout"
        },
        {
          "output_type": "stream",
          "text": [
            "Optimization Progress:  15%|█▍        | 7500/50100 [10:07:31<179:59:06, 15.21s/pipeline]"
          ],
          "name": "stderr"
        },
        {
          "output_type": "stream",
          "text": [
            "Generation 74 - Current best internal CV score: 0.1941315808735717\n"
          ],
          "name": "stdout"
        },
        {
          "output_type": "stream",
          "text": [
            "Optimization Progress:  15%|█▌        | 7600/50100 [10:15:11<47:31:36,  4.03s/pipeline]"
          ],
          "name": "stderr"
        },
        {
          "output_type": "stream",
          "text": [
            "Generation 75 - Current best internal CV score: 0.1941315808735717\n"
          ],
          "name": "stdout"
        },
        {
          "output_type": "stream",
          "text": [
            "Optimization Progress:  15%|█▌        | 7700/50100 [10:22:10<42:15:05,  3.59s/pipeline]"
          ],
          "name": "stderr"
        },
        {
          "output_type": "stream",
          "text": [
            "Generation 76 - Current best internal CV score: 0.1941315808735717\n"
          ],
          "name": "stdout"
        },
        {
          "output_type": "stream",
          "text": [
            "Optimization Progress:  16%|█▌        | 7800/50100 [10:31:12<74:54:24,  6.38s/pipeline]"
          ],
          "name": "stderr"
        },
        {
          "output_type": "stream",
          "text": [
            "Generation 77 - Current best internal CV score: 0.1941315808735717\n"
          ],
          "name": "stdout"
        },
        {
          "output_type": "stream",
          "text": [
            "Optimization Progress:  16%|█▌        | 7900/50100 [10:38:39<152:38:09, 13.02s/pipeline]"
          ],
          "name": "stderr"
        },
        {
          "output_type": "stream",
          "text": [
            "Generation 78 - Current best internal CV score: 0.1941315808735717\n"
          ],
          "name": "stdout"
        },
        {
          "output_type": "stream",
          "text": [
            "Optimization Progress:  16%|█▌        | 8000/50100 [10:46:11<123:40:14, 10.58s/pipeline]"
          ],
          "name": "stderr"
        },
        {
          "output_type": "stream",
          "text": [
            "Generation 79 - Current best internal CV score: 0.1941315808735717\n"
          ],
          "name": "stdout"
        },
        {
          "output_type": "stream",
          "text": [
            "Optimization Progress:  16%|█▌        | 8100/50100 [10:55:06<78:25:31,  6.72s/pipeline]"
          ],
          "name": "stderr"
        },
        {
          "output_type": "stream",
          "text": [
            "Generation 80 - Current best internal CV score: 0.1941315808735717\n"
          ],
          "name": "stdout"
        },
        {
          "output_type": "stream",
          "text": [
            "Optimization Progress:  16%|█▋        | 8200/50100 [11:02:38<35:36:21,  3.06s/pipeline]"
          ],
          "name": "stderr"
        },
        {
          "output_type": "stream",
          "text": [
            "Generation 81 - Current best internal CV score: 0.1941315808735717\n"
          ],
          "name": "stdout"
        },
        {
          "output_type": "stream",
          "text": [
            "Optimization Progress:  17%|█▋        | 8300/50100 [11:09:52<35:52:35,  3.09s/pipeline]"
          ],
          "name": "stderr"
        },
        {
          "output_type": "stream",
          "text": [
            "Generation 82 - Current best internal CV score: 0.1941315808735717\n"
          ],
          "name": "stdout"
        },
        {
          "output_type": "stream",
          "text": [
            "Optimization Progress:  17%|█▋        | 8400/50100 [11:17:13<29:18:47,  2.53s/pipeline]"
          ],
          "name": "stderr"
        },
        {
          "output_type": "stream",
          "text": [
            "Generation 83 - Current best internal CV score: 0.1941315808735717\n"
          ],
          "name": "stdout"
        },
        {
          "output_type": "stream",
          "text": [
            "Optimization Progress:  17%|█▋        | 8500/50100 [11:24:08<49:34:34,  4.29s/pipeline]"
          ],
          "name": "stderr"
        },
        {
          "output_type": "stream",
          "text": [
            "Generation 84 - Current best internal CV score: 0.1941315808735717\n"
          ],
          "name": "stdout"
        },
        {
          "output_type": "stream",
          "text": [
            "Optimization Progress:  17%|█▋        | 8530/50100 [11:27:29<171:09:37, 14.82s/pipeline]"
          ],
          "name": "stderr"
        }
      ]
    },
    {
      "cell_type": "code",
      "metadata": {
        "id": "ldKoS02d4-9v",
        "colab_type": "code",
        "colab": {}
      },
      "source": [
        "!more  tpot_mnist_pipeline56.py"
      ],
      "execution_count": 0,
      "outputs": []
    },
    {
      "cell_type": "code",
      "metadata": {
        "id": "8u4-bBmXR58f",
        "colab_type": "code",
        "outputId": "87ba4398-f0f1-42dd-a641-0964b7cc8eb4",
        "colab": {
          "base_uri": "https://localhost:8080/",
          "height": 308
        }
      },
      "source": [
        "from google.colab import files\n",
        "files.download(\"tpot_mnist_pipeline56.py\")"
      ],
      "execution_count": 0,
      "outputs": [
        {
          "output_type": "error",
          "ename": "FileNotFoundError",
          "evalue": "ignored",
          "traceback": [
            "\u001b[0;31m---------------------------------------------------------------------------\u001b[0m",
            "\u001b[0;31mFileNotFoundError\u001b[0m                         Traceback (most recent call last)",
            "\u001b[0;32m<ipython-input-1-359f0c51ac21>\u001b[0m in \u001b[0;36m<module>\u001b[0;34m()\u001b[0m\n\u001b[1;32m      1\u001b[0m \u001b[0;32mfrom\u001b[0m \u001b[0mgoogle\u001b[0m\u001b[0;34m.\u001b[0m\u001b[0mcolab\u001b[0m \u001b[0;32mimport\u001b[0m \u001b[0mfiles\u001b[0m\u001b[0;34m\u001b[0m\u001b[0m\n\u001b[0;32m----> 2\u001b[0;31m \u001b[0mfiles\u001b[0m\u001b[0;34m.\u001b[0m\u001b[0mdownload\u001b[0m\u001b[0;34m(\u001b[0m\u001b[0;34m\"tpot_mnist_pipeline56.py\"\u001b[0m\u001b[0;34m)\u001b[0m\u001b[0;34m\u001b[0m\u001b[0m\n\u001b[0m",
            "\u001b[0;32m/usr/local/lib/python3.6/dist-packages/google/colab/files.py\u001b[0m in \u001b[0;36mdownload\u001b[0;34m(filename)\u001b[0m\n\u001b[1;32m    142\u001b[0m       \u001b[0;32mraise\u001b[0m \u001b[0mOSError\u001b[0m\u001b[0;34m(\u001b[0m\u001b[0mmsg\u001b[0m\u001b[0;34m)\u001b[0m\u001b[0;34m\u001b[0m\u001b[0m\n\u001b[1;32m    143\u001b[0m     \u001b[0;32melse\u001b[0m\u001b[0;34m:\u001b[0m\u001b[0;34m\u001b[0m\u001b[0m\n\u001b[0;32m--> 144\u001b[0;31m       \u001b[0;32mraise\u001b[0m \u001b[0mFileNotFoundError\u001b[0m\u001b[0;34m(\u001b[0m\u001b[0mmsg\u001b[0m\u001b[0;34m)\u001b[0m  \u001b[0;31m# pylint: disable=undefined-variable\u001b[0m\u001b[0;34m\u001b[0m\u001b[0m\n\u001b[0m\u001b[1;32m    145\u001b[0m \u001b[0;34m\u001b[0m\u001b[0m\n\u001b[1;32m    146\u001b[0m   \u001b[0mstarted\u001b[0m \u001b[0;34m=\u001b[0m \u001b[0m_threading\u001b[0m\u001b[0;34m.\u001b[0m\u001b[0mEvent\u001b[0m\u001b[0;34m(\u001b[0m\u001b[0;34m)\u001b[0m\u001b[0;34m\u001b[0m\u001b[0m\n",
            "\u001b[0;31mFileNotFoundError\u001b[0m: Cannot find file: tpot_mnist_pipeline56.py"
          ]
        }
      ]
    },
    {
      "cell_type": "markdown",
      "metadata": {
        "id": "JLYGsQMmUBum",
        "colab_type": "text"
      },
      "source": [
        "**Others**"
      ]
    },
    {
      "cell_type": "code",
      "metadata": {
        "id": "E_jMe7FQUEAN",
        "colab_type": "code",
        "outputId": "5197caa1-cac6-4c5a-e177-8fa2783db46d",
        "colab": {
          "base_uri": "https://localhost:8080/",
          "height": 238
        }
      },
      "source": [
        "from tpot import TPOTClassifier\n",
        "tpot = TPOTClassifier(generations=50, population_size=100, verbosity=2)\n",
        "tpot.fit(X_train, y_train)\n",
        "print(tpot.score(X_test, y_test))\n",
        "tpot.export('tpot_mnist_pipeline55.py')"
      ],
      "execution_count": 0,
      "outputs": [
        {
          "output_type": "error",
          "ename": "NameError",
          "evalue": "ignored",
          "traceback": [
            "\u001b[0;31m---------------------------------------------------------------------------\u001b[0m",
            "\u001b[0;31mNameError\u001b[0m                                 Traceback (most recent call last)",
            "\u001b[0;32m<ipython-input-4-784c14220876>\u001b[0m in \u001b[0;36m<module>\u001b[0;34m()\u001b[0m\n\u001b[1;32m      1\u001b[0m \u001b[0;32mfrom\u001b[0m \u001b[0mtpot\u001b[0m \u001b[0;32mimport\u001b[0m \u001b[0mTPOTClassifier\u001b[0m\u001b[0;34m\u001b[0m\u001b[0m\n\u001b[1;32m      2\u001b[0m \u001b[0mtpot\u001b[0m \u001b[0;34m=\u001b[0m \u001b[0mTPOTClassifier\u001b[0m\u001b[0;34m(\u001b[0m\u001b[0mgenerations\u001b[0m\u001b[0;34m=\u001b[0m\u001b[0;36m50\u001b[0m\u001b[0;34m,\u001b[0m \u001b[0mpopulation_size\u001b[0m\u001b[0;34m=\u001b[0m\u001b[0;36m100\u001b[0m\u001b[0;34m,\u001b[0m \u001b[0mverbosity\u001b[0m\u001b[0;34m=\u001b[0m\u001b[0;36m2\u001b[0m\u001b[0;34m)\u001b[0m\u001b[0;34m\u001b[0m\u001b[0m\n\u001b[0;32m----> 3\u001b[0;31m \u001b[0mtpot\u001b[0m\u001b[0;34m.\u001b[0m\u001b[0mfit\u001b[0m\u001b[0;34m(\u001b[0m\u001b[0mX_train\u001b[0m\u001b[0;34m,\u001b[0m \u001b[0my_train\u001b[0m\u001b[0;34m)\u001b[0m\u001b[0;34m\u001b[0m\u001b[0m\n\u001b[0m\u001b[1;32m      4\u001b[0m \u001b[0mprint\u001b[0m\u001b[0;34m(\u001b[0m\u001b[0mtpot\u001b[0m\u001b[0;34m.\u001b[0m\u001b[0mscore\u001b[0m\u001b[0;34m(\u001b[0m\u001b[0mX_test\u001b[0m\u001b[0;34m,\u001b[0m \u001b[0my_test\u001b[0m\u001b[0;34m)\u001b[0m\u001b[0;34m)\u001b[0m\u001b[0;34m\u001b[0m\u001b[0m\n\u001b[1;32m      5\u001b[0m \u001b[0mtpot\u001b[0m\u001b[0;34m.\u001b[0m\u001b[0mexport\u001b[0m\u001b[0;34m(\u001b[0m\u001b[0;34m'tpot_mnist_pipeline55.py'\u001b[0m\u001b[0;34m)\u001b[0m\u001b[0;34m\u001b[0m\u001b[0m\n",
            "\u001b[0;31mNameError\u001b[0m: name 'X_train' is not defined"
          ]
        }
      ]
    },
    {
      "cell_type": "code",
      "metadata": {
        "id": "OY_9EhAZxPwr",
        "colab_type": "code",
        "colab": {}
      },
      "source": [
        ""
      ],
      "execution_count": 0,
      "outputs": []
    }
  ]
}